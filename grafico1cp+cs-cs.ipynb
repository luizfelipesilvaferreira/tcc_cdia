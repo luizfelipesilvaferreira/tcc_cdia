{
 "cells": [
  {
   "cell_type": "markdown",
   "id": "42b23928-3151-4c6c-abd6-216f70c015c0",
   "metadata": {
    "tags": []
   },
   "source": [
    "# CLUSTERIZAÇÃO VARIÁVEIS CRUAS:\n",
    "\n",
    "CNAE_FISCAL_PRINCIPAL - MUNICÍPIO - ANO"
   ]
  },
  {
   "cell_type": "code",
   "execution_count": 1,
   "id": "3cb91216-f9e8-4234-9964-318de4181fc2",
   "metadata": {
    "tags": []
   },
   "outputs": [
    {
     "data": {
      "text/html": [
       "<div>\n",
       "<style scoped>\n",
       "    .dataframe tbody tr th:only-of-type {\n",
       "        vertical-align: middle;\n",
       "    }\n",
       "\n",
       "    .dataframe tbody tr th {\n",
       "        vertical-align: top;\n",
       "    }\n",
       "\n",
       "    .dataframe thead th {\n",
       "        text-align: right;\n",
       "    }\n",
       "</style>\n",
       "<table border=\"1\" class=\"dataframe\">\n",
       "  <thead>\n",
       "    <tr style=\"text-align: right;\">\n",
       "      <th></th>\n",
       "      <th>DATA_DE_INÍCIO_ATIVIDADE</th>\n",
       "      <th>CNAE_FISCAL_PRINCIPAL</th>\n",
       "      <th>MUNICÍPIO</th>\n",
       "    </tr>\n",
       "  </thead>\n",
       "  <tbody>\n",
       "    <tr>\n",
       "      <th>0</th>\n",
       "      <td>2023</td>\n",
       "      <td>4644301</td>\n",
       "      <td>7885</td>\n",
       "    </tr>\n",
       "    <tr>\n",
       "      <th>1</th>\n",
       "      <td>2023</td>\n",
       "      <td>4637104</td>\n",
       "      <td>1569</td>\n",
       "    </tr>\n",
       "    <tr>\n",
       "      <th>2</th>\n",
       "      <td>2023</td>\n",
       "      <td>4647801</td>\n",
       "      <td>1219</td>\n",
       "    </tr>\n",
       "    <tr>\n",
       "      <th>3</th>\n",
       "      <td>2023</td>\n",
       "      <td>4647801</td>\n",
       "      <td>1219</td>\n",
       "    </tr>\n",
       "    <tr>\n",
       "      <th>4</th>\n",
       "      <td>2023</td>\n",
       "      <td>4647801</td>\n",
       "      <td>1219</td>\n",
       "    </tr>\n",
       "    <tr>\n",
       "      <th>...</th>\n",
       "      <td>...</td>\n",
       "      <td>...</td>\n",
       "      <td>...</td>\n",
       "    </tr>\n",
       "    <tr>\n",
       "      <th>85176660</th>\n",
       "      <td>1903</td>\n",
       "      <td>9430800</td>\n",
       "      <td>921</td>\n",
       "    </tr>\n",
       "    <tr>\n",
       "      <th>85176661</th>\n",
       "      <td>1901</td>\n",
       "      <td>9430800</td>\n",
       "      <td>8927</td>\n",
       "    </tr>\n",
       "    <tr>\n",
       "      <th>85176662</th>\n",
       "      <td>1901</td>\n",
       "      <td>9430800</td>\n",
       "      <td>8927</td>\n",
       "    </tr>\n",
       "    <tr>\n",
       "      <th>85176663</th>\n",
       "      <td>1901</td>\n",
       "      <td>6912500</td>\n",
       "      <td>6645</td>\n",
       "    </tr>\n",
       "    <tr>\n",
       "      <th>85176664</th>\n",
       "      <td>1891</td>\n",
       "      <td>1321900</td>\n",
       "      <td>4675</td>\n",
       "    </tr>\n",
       "  </tbody>\n",
       "</table>\n",
       "<p>85176665 rows × 3 columns</p>\n",
       "</div>"
      ],
      "text/plain": [
       "          DATA_DE_INÍCIO_ATIVIDADE  CNAE_FISCAL_PRINCIPAL  MUNICÍPIO\n",
       "0                             2023                4644301       7885\n",
       "1                             2023                4637104       1569\n",
       "2                             2023                4647801       1219\n",
       "3                             2023                4647801       1219\n",
       "4                             2023                4647801       1219\n",
       "...                            ...                    ...        ...\n",
       "85176660                      1903                9430800        921\n",
       "85176661                      1901                9430800       8927\n",
       "85176662                      1901                9430800       8927\n",
       "85176663                      1901                6912500       6645\n",
       "85176664                      1891                1321900       4675\n",
       "\n",
       "[85176665 rows x 3 columns]"
      ]
     },
     "execution_count": 1,
     "metadata": {},
     "output_type": "execute_result"
    }
   ],
   "source": [
    "import pandas as pd\n",
    "df = pd.read_csv('df_final_cp+cs-cs.csv')\n",
    "df"
   ]
  },
  {
   "cell_type": "code",
   "execution_count": 2,
   "id": "6abe116d-5a37-45d9-a216-ec898a41cbf4",
   "metadata": {
    "tags": []
   },
   "outputs": [
    {
     "data": {
      "text/html": [
       "<div>\n",
       "<style scoped>\n",
       "    .dataframe tbody tr th:only-of-type {\n",
       "        vertical-align: middle;\n",
       "    }\n",
       "\n",
       "    .dataframe tbody tr th {\n",
       "        vertical-align: top;\n",
       "    }\n",
       "\n",
       "    .dataframe thead th {\n",
       "        text-align: right;\n",
       "    }\n",
       "</style>\n",
       "<table border=\"1\" class=\"dataframe\">\n",
       "  <thead>\n",
       "    <tr style=\"text-align: right;\">\n",
       "      <th></th>\n",
       "      <th>CNAE_FISCAL_PRINCIPAL</th>\n",
       "      <th>MUNICÍPIO</th>\n",
       "      <th>DATA_DE_INÍCIO_ATIVIDADE</th>\n",
       "    </tr>\n",
       "  </thead>\n",
       "  <tbody>\n",
       "    <tr>\n",
       "      <th>0</th>\n",
       "      <td>4644301</td>\n",
       "      <td>7885</td>\n",
       "      <td>2023</td>\n",
       "    </tr>\n",
       "    <tr>\n",
       "      <th>1</th>\n",
       "      <td>4637104</td>\n",
       "      <td>1569</td>\n",
       "      <td>2023</td>\n",
       "    </tr>\n",
       "    <tr>\n",
       "      <th>2</th>\n",
       "      <td>4647801</td>\n",
       "      <td>1219</td>\n",
       "      <td>2023</td>\n",
       "    </tr>\n",
       "    <tr>\n",
       "      <th>3</th>\n",
       "      <td>4647801</td>\n",
       "      <td>1219</td>\n",
       "      <td>2023</td>\n",
       "    </tr>\n",
       "    <tr>\n",
       "      <th>4</th>\n",
       "      <td>4647801</td>\n",
       "      <td>1219</td>\n",
       "      <td>2023</td>\n",
       "    </tr>\n",
       "    <tr>\n",
       "      <th>...</th>\n",
       "      <td>...</td>\n",
       "      <td>...</td>\n",
       "      <td>...</td>\n",
       "    </tr>\n",
       "    <tr>\n",
       "      <th>85176660</th>\n",
       "      <td>9430800</td>\n",
       "      <td>921</td>\n",
       "      <td>1903</td>\n",
       "    </tr>\n",
       "    <tr>\n",
       "      <th>85176661</th>\n",
       "      <td>9430800</td>\n",
       "      <td>8927</td>\n",
       "      <td>1901</td>\n",
       "    </tr>\n",
       "    <tr>\n",
       "      <th>85176662</th>\n",
       "      <td>9430800</td>\n",
       "      <td>8927</td>\n",
       "      <td>1901</td>\n",
       "    </tr>\n",
       "    <tr>\n",
       "      <th>85176663</th>\n",
       "      <td>6912500</td>\n",
       "      <td>6645</td>\n",
       "      <td>1901</td>\n",
       "    </tr>\n",
       "    <tr>\n",
       "      <th>85176664</th>\n",
       "      <td>1321900</td>\n",
       "      <td>4675</td>\n",
       "      <td>1891</td>\n",
       "    </tr>\n",
       "  </tbody>\n",
       "</table>\n",
       "<p>85176665 rows × 3 columns</p>\n",
       "</div>"
      ],
      "text/plain": [
       "          CNAE_FISCAL_PRINCIPAL  MUNICÍPIO  DATA_DE_INÍCIO_ATIVIDADE\n",
       "0                       4644301       7885                      2023\n",
       "1                       4637104       1569                      2023\n",
       "2                       4647801       1219                      2023\n",
       "3                       4647801       1219                      2023\n",
       "4                       4647801       1219                      2023\n",
       "...                         ...        ...                       ...\n",
       "85176660                9430800        921                      1903\n",
       "85176661                9430800       8927                      1901\n",
       "85176662                9430800       8927                      1901\n",
       "85176663                6912500       6645                      1901\n",
       "85176664                1321900       4675                      1891\n",
       "\n",
       "[85176665 rows x 3 columns]"
      ]
     },
     "execution_count": 2,
     "metadata": {},
     "output_type": "execute_result"
    }
   ],
   "source": [
    "dados_cluster = df[['CNAE_FISCAL_PRINCIPAL', 'MUNICÍPIO', 'DATA_DE_INÍCIO_ATIVIDADE']]\n",
    "dados_cluster"
   ]
  },
  {
   "cell_type": "code",
   "execution_count": 3,
   "id": "1794af8c-d75c-49e9-9229-e539d8b2b00e",
   "metadata": {
    "tags": []
   },
   "outputs": [
    {
     "data": {
      "text/html": [
       "<div>\n",
       "<style scoped>\n",
       "    .dataframe tbody tr th:only-of-type {\n",
       "        vertical-align: middle;\n",
       "    }\n",
       "\n",
       "    .dataframe tbody tr th {\n",
       "        vertical-align: top;\n",
       "    }\n",
       "\n",
       "    .dataframe thead th {\n",
       "        text-align: right;\n",
       "    }\n",
       "</style>\n",
       "<table border=\"1\" class=\"dataframe\">\n",
       "  <thead>\n",
       "    <tr style=\"text-align: right;\">\n",
       "      <th></th>\n",
       "      <th>CNAE_FISCAL_PRINCIPAL</th>\n",
       "      <th>MUNICÍPIO</th>\n",
       "      <th>DATA_DE_INÍCIO_ATIVIDADE</th>\n",
       "    </tr>\n",
       "  </thead>\n",
       "  <tbody>\n",
       "    <tr>\n",
       "      <th>13371777</th>\n",
       "      <td>4781400</td>\n",
       "      <td>9701</td>\n",
       "      <td>2021</td>\n",
       "    </tr>\n",
       "    <tr>\n",
       "      <th>17844177</th>\n",
       "      <td>1821100</td>\n",
       "      <td>5403</td>\n",
       "      <td>2021</td>\n",
       "    </tr>\n",
       "    <tr>\n",
       "      <th>16910876</th>\n",
       "      <td>8230001</td>\n",
       "      <td>6377</td>\n",
       "      <td>2021</td>\n",
       "    </tr>\n",
       "    <tr>\n",
       "      <th>49398932</th>\n",
       "      <td>8130300</td>\n",
       "      <td>2913</td>\n",
       "      <td>2015</td>\n",
       "    </tr>\n",
       "    <tr>\n",
       "      <th>23025343</th>\n",
       "      <td>5620104</td>\n",
       "      <td>3215</td>\n",
       "      <td>2020</td>\n",
       "    </tr>\n",
       "    <tr>\n",
       "      <th>...</th>\n",
       "      <td>...</td>\n",
       "      <td>...</td>\n",
       "      <td>...</td>\n",
       "    </tr>\n",
       "    <tr>\n",
       "      <th>21782925</th>\n",
       "      <td>4744099</td>\n",
       "      <td>7735</td>\n",
       "      <td>2020</td>\n",
       "    </tr>\n",
       "    <tr>\n",
       "      <th>68496831</th>\n",
       "      <td>121101</td>\n",
       "      <td>6225</td>\n",
       "      <td>2009</td>\n",
       "    </tr>\n",
       "    <tr>\n",
       "      <th>60948296</th>\n",
       "      <td>4929901</td>\n",
       "      <td>6001</td>\n",
       "      <td>2012</td>\n",
       "    </tr>\n",
       "    <tr>\n",
       "      <th>56463131</th>\n",
       "      <td>6203100</td>\n",
       "      <td>7107</td>\n",
       "      <td>2013</td>\n",
       "    </tr>\n",
       "    <tr>\n",
       "      <th>35131715</th>\n",
       "      <td>8211300</td>\n",
       "      <td>1116</td>\n",
       "      <td>2018</td>\n",
       "    </tr>\n",
       "  </tbody>\n",
       "</table>\n",
       "<p>8518 rows × 3 columns</p>\n",
       "</div>"
      ],
      "text/plain": [
       "          CNAE_FISCAL_PRINCIPAL  MUNICÍPIO  DATA_DE_INÍCIO_ATIVIDADE\n",
       "13371777                4781400       9701                      2021\n",
       "17844177                1821100       5403                      2021\n",
       "16910876                8230001       6377                      2021\n",
       "49398932                8130300       2913                      2015\n",
       "23025343                5620104       3215                      2020\n",
       "...                         ...        ...                       ...\n",
       "21782925                4744099       7735                      2020\n",
       "68496831                 121101       6225                      2009\n",
       "60948296                4929901       6001                      2012\n",
       "56463131                6203100       7107                      2013\n",
       "35131715                8211300       1116                      2018\n",
       "\n",
       "[8518 rows x 3 columns]"
      ]
     },
     "execution_count": 3,
     "metadata": {},
     "output_type": "execute_result"
    }
   ],
   "source": [
    "# Realize a amostragem aleatória simples com 0,001% dos dados\n",
    "dados_cluster = dados_cluster.sample(frac=0.0001, random_state=42)\n",
    "dados_cluster"
   ]
  },
  {
   "cell_type": "code",
   "execution_count": 4,
   "id": "d47e9aa0-966b-4695-9ab7-fa9343373bbf",
   "metadata": {
    "tags": []
   },
   "outputs": [],
   "source": [
    "# transformações necessárias para aplicação do algoritmo\n",
    "# Converter as colunas \"MUNICÍPIO\" e \"CNAE_FISCAL_PRINCIPAL\" em string\n",
    "dados_cluster[\"MUNICÍPIO\"] = dados_cluster[\"MUNICÍPIO\"].astype(str)\n",
    "dados_cluster[\"CNAE_FISCAL_PRINCIPAL\"] = dados_cluster[\"CNAE_FISCAL_PRINCIPAL\"].astype(str)\n",
    "\n",
    "# Agrupar o DataFrame pelos campos desejados\n",
    "grupo = dados_cluster.groupby([\"DATA_DE_INÍCIO_ATIVIDADE\", \"MUNICÍPIO\", \"CNAE_FISCAL_PRINCIPAL\"]).size().reset_index(name=\"Contagem\")"
   ]
  },
  {
   "cell_type": "code",
   "execution_count": 5,
   "id": "c04ccd8a-d7a3-457f-bde9-662e9745e992",
   "metadata": {
    "tags": []
   },
   "outputs": [],
   "source": [
    "from sklearn.decomposition import PCA\n",
    "from sklearn.preprocessing import StandardScaler\n",
    "\n",
    "scaler = StandardScaler()\n",
    "dados_cluster_scaled = scaler.fit_transform(grupo)\n",
    "\n",
    "pca = PCA(n_components=2)  # k é o número de componentes principais desejados\n",
    "X = pca.fit_transform(dados_cluster_scaled)\n",
    "\n",
    "componentes_principais = pca.components_\n",
    "variancia_explicada = pca.explained_variance_ratio_\n"
   ]
  },
  {
   "cell_type": "code",
   "execution_count": 6,
   "id": "2646b9ff-4f66-4887-995c-7dfd00921368",
   "metadata": {
    "tags": []
   },
   "outputs": [
    {
     "name": "stdout",
     "output_type": "stream",
     "text": [
      "Número de clusters encontrados: 5\n"
     ]
    },
    {
     "data": {
      "image/png": "[encoded data removed]",
      "text/plain": [
       "<Figure size 640x480 with 1 Axes>"
      ]
     },
     "metadata": {},
     "output_type": "display_data"
    }
   ],
   "source": [
    "import numpy as np\n",
    "import matplotlib.pyplot as plt\n",
    "from sklearn.cluster import DBSCAN\n",
    "\n",
    "# Aplicando o DBSCAN\n",
    "eps = 0.3  # Parâmetro de distância máxima entre os pontos do mesmo cluster\n",
    "min_samples = 5  # Número mínimo de pontos para formar um cluster\n",
    "dbscan = DBSCAN(eps=eps, min_samples=min_samples)\n",
    "labels = dbscan.fit_predict(X)\n",
    "\n",
    "# Obtendo a quantidade de clusters encontrados\n",
    "n_clusters = len(set(labels)) - (1 if -1 in labels else 0)\n",
    "print(f\"Número de clusters encontrados: {n_clusters}\")\n",
    "\n",
    "# Criando um gráfico colorido dos clusters\n",
    "unique_labels = set(labels)\n",
    "colors = [plt.cm.Spectral(each) for each in np.linspace(0, 1, len(unique_labels))]\n",
    "\n",
    "for k, col in zip(unique_labels, colors):\n",
    "    if k == -1:\n",
    "        # Ruído é exibido em preto\n",
    "        col = [0, 0, 0, 1]\n",
    "\n",
    "    class_member_mask = (labels == k)\n",
    "\n",
    "    xy = X[class_member_mask]\n",
    "    plt.scatter(xy[:, 0], xy[:, 1], c=[col], marker='o', s=0.5)\n",
    "\n",
    "plt.title('DBSCAN: Número de clusters encontrados {}'.format(n_clusters))\n",
    "\n",
    "# Centralizar o gráfico na origem\n",
    "plt.axis('equal')\n",
    "plt.xlim(-3, 3)\n",
    "plt.ylim(-3, 3)\n",
    "\n",
    "plt.show()"
   ]
  },
  {
   "cell_type": "code",
   "execution_count": null,
   "id": "2dd45fdb-a82e-4c48-8d38-61ac8696811c",
   "metadata": {
    "tags": []
   },
   "outputs": [],
   "source": []
  },
  {
   "cell_type": "markdown",
   "id": "7a3b5a32-24ce-45f7-b599-dec8038008fe",
   "metadata": {},
   "source": [
    "# ANÁLISE DE RESULTADOS DA CLUSTERIZAÇÃO COM VARIÁVEIS CRUAS: \n",
    "\n",
    "CNAE_FISCAL_PRINCIPAL - MUNICÍPIO - ANO\n",
    "\n",
    "Tendo em vista a utilização de apenas 0,001% dos dados devido às limitações de poder computacional existentes, o gráfico apresentado possui distribuição irregular e concentrada próximo à origem. Os 5 clusters encontrados não apresentaram resultados conclusivos ao formato dos dados. O posicionamento dos dados indica uma curva de crescimento diretamente proporcional."
   ]
  },
  {
   "cell_type": "code",
   "execution_count": null,
   "id": "bdf370f3-2835-4e89-9cd1-40f05169316b",
   "metadata": {},
   "outputs": [],
   "source": []
  },
  {
   "cell_type": "code",
   "execution_count": null,
   "id": "b27d1214-766e-4d85-bd13-a6beaedf805b",
   "metadata": {},
   "outputs": [],
   "source": []
  },
  {
   "cell_type": "code",
   "execution_count": null,
   "id": "83bbd8df-282e-4c3d-b448-2a19412e72e5",
   "metadata": {},
   "outputs": [],
   "source": []
  },
  {
   "cell_type": "code",
   "execution_count": null,
   "id": "9f55b688-41ed-4591-adab-b44a6a178189",
   "metadata": {},
   "outputs": [],
   "source": []
  },
  {
   "cell_type": "code",
   "execution_count": null,
   "id": "392dc247-6408-4038-aeca-88c3a32be6e3",
   "metadata": {},
   "outputs": [],
   "source": []
  },
  {
   "cell_type": "code",
   "execution_count": null,
   "id": "1c3a6ea9-296d-42ef-bacf-7e5666745117",
   "metadata": {},
   "outputs": [],
   "source": []
  },
  {
   "cell_type": "raw",
   "id": "8b3bda34-c4c1-4ce0-8e1e-39c57d2ad656",
   "metadata": {},
   "source": []
  },
  {
   "cell_type": "markdown",
   "id": "6944710e-0966-4e55-9707-4227409eb8e2",
   "metadata": {},
   "source": [
    "OK! Coluna ano1 > filtrada por município > ano1 (min por município > menor valor. prim ocorrência cnae. Abertura do cnpj)\n",
    "\n",
    "OK! Coluna maturidade \"ano 37\" > filtrar município > ano_da_linha - ano1\n",
    "        Talvez seja necessário ordenar por ano antes. \n",
    "\n",
    "\n",
    "\n",
    "Não supervisionado: Depois disso será possível fazer uma clusterização por maturidade média dos que estão no \"ano 37\"\n",
    "\n",
    "\n",
    "Depois disso será possível fazer o ranking\n",
    "\n",
    "Contagem de quantos cnaes novos por município: filtrar: ano > município > contagem cnaes existentes\n",
    "\n",
    "    Quanto mais cnaes (maior contagem) mais desenvolvido será o município no ano\n",
    "\n",
    "Fazer um gráfico com a evolução por ano do ranking de municípios (gráfico móvel do pbi)\n",
    "\n",
    "Depois disso posso retirar as capitais para verificar quais os municípios do interior são mais desenvolvidos (novo dataset sem capitais somente com os municípios do interior)"
   ]
  },
  {
   "cell_type": "markdown",
   "id": "f47ecbe2-89f0-4c8c-8957-edf76526a524",
   "metadata": {
    "tags": []
   },
   "source": [
    "GRÁFICO DE BARRAS MÓVEL (RACE BAR CHART)"
   ]
  },
  {
   "cell_type": "code",
   "execution_count": null,
   "id": "19cebf99-9d30-4ba4-9daa-1e7003173dea",
   "metadata": {
    "tags": []
   },
   "outputs": [],
   "source": [
    "# AJUSTANDO A BASE PARA OUTRO FORMATO\n",
    "\n",
    "# # Usando a função pivot_table para reorganizar o DataFrame\n",
    "# df_g1 = df.pivot_table(index='ANO', columns='MUNICÍPIO', values='CONTAGEM_CP_MUN', aggfunc='sum', fill_value=0)\n",
    "\n",
    "# # Resetando o índice para manter \"ANO\" como uma coluna\n",
    "# df_g1 = df_g1.reset_index()\n",
    "\n",
    "# df_g1"
   ]
  },
  {
   "cell_type": "markdown",
   "id": "bc211762-7fee-4d6c-9f00-284dbde79ba8",
   "metadata": {
    "tags": []
   },
   "source": [
    "# Fazer um gráfico com a evolução por ano do ranking de municípios\n",
    "# gráfico móvel de barras móvel (PBI)\n",
    "\n",
    "# criar um gráfico de barras móvel utilizando ANO, MUNICÍPIO e CONTAGEM_CP_ANO_MUN"
   ]
  },
  {
   "cell_type": "code",
   "execution_count": null,
   "id": "5a276f67-82a4-4b30-ac97-ce6ee8cf6ac7",
   "metadata": {
    "tags": []
   },
   "outputs": [],
   "source": [
    "# APLICANDO GRÁFICO DE BARRAS MÓVEL (RACE BAR)\n",
    "# !pip3 install bar_chart_race"
   ]
  },
  {
   "cell_type": "code",
   "execution_count": null,
   "id": "336d58f2-a892-4d9f-baa8-286322c80290",
   "metadata": {
    "tags": []
   },
   "outputs": [],
   "source": [
    "# pip install bar_chart_race"
   ]
  },
  {
   "cell_type": "code",
   "execution_count": null,
   "id": "f41d1f3a-f214-4747-b80c-275dfcc6437f",
   "metadata": {
    "tags": []
   },
   "outputs": [],
   "source": [
    "# import bar_chart_race as bcr\n",
    "\n",
    "# df_g1 = df_g1.set_index('ANO')\n",
    "# bcr.bar_chart_race(\n",
    "#     df=df, \n",
    "#     title='CONTAGEM_CP_MUN X ANO', \n",
    "#     orientation='h', \n",
    "#     sort='desc', \n",
    "#     n_bars=10, \n",
    "#     steps_per_period=40, \n",
    "#     period_length=2000\n",
    "# )"
   ]
  },
  {
   "cell_type": "code",
   "execution_count": null,
   "id": "1c5eb2ce-f009-4f61-b110-b9db5baf9ddf",
   "metadata": {
    "tags": []
   },
   "outputs": [],
   "source": [
    "#Pegar características dos municípios pra poder comparar com o pib\n",
    "\t#Ex número habitantes x pib\n",
    "\t#Qtd empresas x pib\n",
    "\n",
    "#Fazer gráfico por município\n",
    "\n",
    "#Pegar os de maior pib e menor pib pra comparação\n",
    "\n",
    "#Comparar 2 municípios no gráfico"
   ]
  },
  {
   "cell_type": "code",
   "execution_count": null,
   "id": "f204ac36-cbbd-4a65-9914-df7150f4c263",
   "metadata": {},
   "outputs": [],
   "source": []
  }
 ],
 "metadata": {
  "kernelspec": {
   "display_name": "Python 3 (ipykernel)",
   "language": "python",
   "name": "python3"
  },
  "language_info": {
   "codemirror_mode": {
    "name": "ipython",
    "version": 3
   },
   "file_extension": ".py",
   "mimetype": "text/x-python",
   "name": "python",
   "nbconvert_exporter": "python",
   "pygments_lexer": "ipython3",
   "version": "3.8.17"
  }
 },
 "nbformat": 4,
 "nbformat_minor": 5
}
